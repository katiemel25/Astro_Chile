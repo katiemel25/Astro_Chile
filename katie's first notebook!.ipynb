{
 "cells": [
  {
   "cell_type": "markdown",
   "metadata": {},
   "source": [
    "<b> Katie's first IPython notebook</b>\n",
    "* Look up \"array slicing\", \"array indexing\", \"numpy array operations\", \"fancy indexing\" (array operations)\n",
    "* From matplotlib: plt.scatter, plt.hist, plt.plot\n",
    "* From astropy lookup: astropy.io.ascii and astropy.io.fits\n",
    "* If you have the time and are enthusiastic, look up pandas and do tutorials in it"
   ]
  },
  {
   "cell_type": "code",
   "execution_count": 15,
   "metadata": {
    "collapsed": false
   },
   "outputs": [],
   "source": [
    "%matplotlib inline\n",
    "import matplotlib.pyplot as plt\n",
    "import seaborn as sns\n",
    "sns.set()"
   ]
  },
  {
   "cell_type": "code",
   "execution_count": 1,
   "metadata": {
    "collapsed": true
   },
   "outputs": [],
   "source": [
    "import glob"
   ]
  },
  {
   "cell_type": "code",
   "execution_count": 2,
   "metadata": {
    "collapsed": false
   },
   "outputs": [
    {
     "data": {
      "text/plain": [
       "['.\\\\G2.mas', \".\\\\katie's first notebook!.ipynb\"]"
      ]
     },
     "execution_count": 2,
     "metadata": {},
     "output_type": "execute_result"
    }
   ],
   "source": [
    "glob.glob(\"./*\")"
   ]
  },
  {
   "cell_type": "code",
   "execution_count": 3,
   "metadata": {
    "collapsed": true
   },
   "outputs": [],
   "source": [
    "from astropy.io import ascii"
   ]
  },
  {
   "cell_type": "code",
   "execution_count": 5,
   "metadata": {
    "collapsed": true
   },
   "outputs": [],
   "source": [
    "data = ascii.read(\"G2.mas\", names=[\"blue\", \"red\", \"weight\"])"
   ]
  },
  {
   "cell_type": "code",
   "execution_count": 9,
   "metadata": {
    "collapsed": true
   },
   "outputs": [
    {
     "data": {
      "text/plain": [
       "(<Column name='blue' dtype='float64' length=3625>\n",
       " 3750.274107\n",
       " 3750.660631\n",
       " 3750.853968\n",
       " 3751.071225\n",
       " 3751.206308\n",
       " 3751.583225\n",
       "  3751.80573\n",
       " 3752.397613\n",
       " 3752.673659\n",
       "  3752.84578\n",
       " 3753.122715\n",
       " 3753.321875\n",
       "         ...\n",
       " 6778.639605\n",
       " 6779.699279\n",
       " 6782.202452\n",
       " 6783.244496\n",
       " 6783.672127\n",
       " 6784.194748\n",
       " 6785.127945\n",
       "   6786.8307\n",
       " 6790.610486\n",
       " 6793.228545\n",
       " 6795.767645\n",
       " 6798.432711, <Column name='red' dtype='float64' length=3625>\n",
       " 3750.311609\n",
       " 3750.698137\n",
       " 3750.891476\n",
       " 3751.108735\n",
       "  3751.24382\n",
       " 3751.620741\n",
       " 3751.843248\n",
       " 3752.435137\n",
       " 3752.711185\n",
       " 3752.883308\n",
       " 3753.160247\n",
       " 3753.359409\n",
       "         ...\n",
       " 6778.707391\n",
       " 6779.767077\n",
       " 6782.270274\n",
       " 6783.312328\n",
       " 6783.739965\n",
       "  6784.26259\n",
       " 6785.195797\n",
       " 6786.898568\n",
       " 6790.678392\n",
       " 6793.296477\n",
       " 6795.835603\n",
       " 6798.500695, <Column name='weight' dtype='float64' length=3625>\n",
       " 0.701\n",
       " 0.643\n",
       " 0.742\n",
       " 0.666\n",
       " 0.461\n",
       " 0.635\n",
       " 0.728\n",
       " 0.788\n",
       " 0.252\n",
       " 0.908\n",
       " 0.688\n",
       " 0.649\n",
       "   ...\n",
       " 0.004\n",
       " 0.005\n",
       " 0.038\n",
       "  0.03\n",
       " 0.098\n",
       " 0.049\n",
       " 0.015\n",
       " 0.192\n",
       " 0.018\n",
       " 0.104\n",
       " 0.051\n",
       " 0.051)"
      ]
     },
     "execution_count": 9,
     "metadata": {},
     "output_type": "execute_result"
    }
   ],
   "source": [
    "data['blue'], data['red'], data['weight']"
   ]
  },
  {
   "cell_type": "code",
   "execution_count": 10,
   "metadata": {
    "collapsed": true
   },
   "outputs": [],
   "source": [
    "import numpy as np"
   ]
  },
  {
   "cell_type": "code",
   "execution_count": 11,
   "metadata": {
    "collapsed": false
   },
   "outputs": [
    {
     "data": {
      "text/plain": [
       "4501.0821530000003"
      ]
     },
     "execution_count": 11,
     "metadata": {},
     "output_type": "execute_result"
    }
   ],
   "source": [
    "np.median(data['blue'])"
   ]
  },
  {
   "cell_type": "code",
   "execution_count": 18,
   "metadata": {
    "collapsed": false
   },
   "outputs": [
    {
     "data": {
      "text/plain": [
       "<matplotlib.text.Text at 0xc7d85f8>"
      ]
     },
     "execution_count": 18,
     "metadata": {},
     "output_type": "execute_result"
    },
    {
     "data": {
      "image/png": "[encoded data removed]",
      "text/plain": [
       "<matplotlib.figure.Figure at 0xb800f98>"
      ]
     },
     "metadata": {},
     "output_type": "display_data"
    }
   ],
   "source": [
    "plt.hist(data['blue'], facecolor=\"blue\", label=\"blue\", alpha=0.5)\n",
    "plt.hist(data['red'], facecolor= \"red\", label=\"red\", alpha=0.5)\n",
    "plt.legend()\n",
    "plt.title(\"Dist of Blue/Red cut-off lines\")"
   ]
  },
  {
   "cell_type": "code",
   "execution_count": 21,
   "metadata": {
    "collapsed": false
   },
   "outputs": [
    {
     "data": {
      "text/plain": [
       "array([ 2,  6, 12, 20, 30])"
      ]
     },
     "execution_count": 21,
     "metadata": {},
     "output_type": "execute_result"
    }
   ],
   "source": [
    "np.array([1,2,3,4,5]) * np.array([2,3,4,5,6])"
   ]
  },
  {
   "cell_type": "code",
   "execution_count": 23,
   "metadata": {
    "collapsed": false
   },
   "outputs": [
    {
     "data": {
      "text/plain": [
       "3625"
      ]
     },
     "execution_count": 23,
     "metadata": {},
     "output_type": "execute_result"
    }
   ],
   "source": [
    "len(data['blue'])"
   ]
  },
  {
   "cell_type": "code",
   "execution_count": 22,
   "metadata": {
    "collapsed": false
   },
   "outputs": [
    {
     "data": {
      "text/html": [
       "&lt;Column name=&apos;blue&apos; dtype=&apos;float64&apos; length=1787&gt;\n",
       "<table>\n",
       "<tr><td>3750.274107</td></tr>\n",
       "<tr><td>3750.660631</td></tr>\n",
       "<tr><td>3750.853968</td></tr>\n",
       "<tr><td>3751.071225</td></tr>\n",
       "<tr><td>3751.583225</td></tr>\n",
       "<tr><td>3751.80573</td></tr>\n",
       "<tr><td>3752.397613</td></tr>\n",
       "<tr><td>3752.84578</td></tr>\n",
       "<tr><td>3753.122715</td></tr>\n",
       "<tr><td>3753.321875</td></tr>\n",
       "<tr><td>3753.599234</td></tr>\n",
       "<tr><td>3754.50124</td></tr>\n",
       "<tr><td>...</td></tr>\n",
       "<tr><td>6411.623691</td></tr>\n",
       "<tr><td>6419.924168</td></tr>\n",
       "<tr><td>6421.330867</td></tr>\n",
       "<tr><td>6430.822764</td></tr>\n",
       "<tr><td>6439.048511</td></tr>\n",
       "<tr><td>6449.784663</td></tr>\n",
       "<tr><td>6643.600902</td></tr>\n",
       "<tr><td>6663.414419</td></tr>\n",
       "<tr><td>6677.961227</td></tr>\n",
       "<tr><td>6717.649621</td></tr>\n",
       "<tr><td>6750.126658</td></tr>\n",
       "<tr><td>6767.747887</td></tr>\n",
       "</table>"
      ],
      "text/plain": [
       "<Column name='blue' dtype='float64' length=1787>\n",
       "3750.274107\n",
       "3750.660631\n",
       "3750.853968\n",
       "3751.071225\n",
       "3751.583225\n",
       " 3751.80573\n",
       "3752.397613\n",
       " 3752.84578\n",
       "3753.122715\n",
       "3753.321875\n",
       "3753.599234\n",
       " 3754.50124\n",
       "        ...\n",
       "6411.623691\n",
       "6419.924168\n",
       "6421.330867\n",
       "6430.822764\n",
       "6439.048511\n",
       "6449.784663\n",
       "6643.600902\n",
       "6663.414419\n",
       "6677.961227\n",
       "6717.649621\n",
       "6750.126658\n",
       "6767.747887"
      ]
     },
     "execution_count": 22,
     "metadata": {},
     "output_type": "execute_result"
    }
   ],
   "source": [
    "data['blue'][data['weight'] > 0.5]"
   ]
  },
  {
   "cell_type": "code",
   "execution_count": 24,
   "metadata": {
    "collapsed": true
   },
   "outputs": [],
   "source": [
    "a = np.array([1,2,3,4,9,8])"
   ]
  },
  {
   "cell_type": "code",
   "execution_count": 26,
   "metadata": {
    "collapsed": false
   },
   "outputs": [
    {
     "data": {
      "text/plain": [
       "array([9, 8, 4, 3, 2, 1])"
      ]
     },
     "execution_count": 26,
     "metadata": {},
     "output_type": "execute_result"
    }
   ],
   "source": [
    "np.sort(a)[::-1]"
   ]
  },
  {
   "cell_type": "code",
   "execution_count": null,
   "metadata": {
    "collapsed": true
   },
   "outputs": [],
   "source": []
  }
 ],
 "metadata": {
  "kernelspec": {
   "display_name": "Python 2",
   "language": "python",
   "name": "python2"
  },
  "language_info": {
   "codemirror_mode": {
    "name": "ipython",
    "version": 2
   },
   "file_extension": ".py",
   "mimetype": "text/x-python",
   "name": "python",
   "nbconvert_exporter": "python",
   "pygments_lexer": "ipython2",
   "version": "2.7.11"
  }
 },
 "nbformat": 4,
 "nbformat_minor": 0
}
